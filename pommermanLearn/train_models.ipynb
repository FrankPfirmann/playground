{
 "cells": [
  {
   "cell_type": "markdown",
   "metadata": {},
   "source": [
    "## Import libraries"
   ]
  },
  {
   "cell_type": "code",
   "execution_count": 7,
   "metadata": {},
   "outputs": [],
   "source": [
    "# solve error #15\n",
    "import os    \n",
    "os.environ['KMP_DUPLICATE_LIB_OK']='True'\n",
    "\n",
    "import logging\n",
    "import random\n",
    "from datetime import datetime\n",
    "import os\n",
    "import torch\n",
    "import numpy as np\n",
    "import params as p\n",
    "\n",
    "from data_augmentation import DataAugmentor_v1\n",
    "from data_generator import DataGeneratorPommerman\n",
    "from dqn import DQN\n",
    "from models import Pommer_Q\n",
    "from util.data import transform_observation_centralized"
   ]
  },
  {
   "cell_type": "markdown",
   "metadata": {},
   "source": [
    "## Define helper functions"
   ]
  },
  {
   "cell_type": "code",
   "execution_count": 8,
   "metadata": {},
   "outputs": [],
   "source": [
    "board_size = 11\n",
    "obs_size =  board_size*2-1\n",
    "transform_func =  transform_observation_centralized\n",
    "\n",
    "q = Pommer_Q(obs_size, transform_func)\n",
    "q_target = Pommer_Q(obs_size, transform_func)\n",
    "algo = DQN(q, q_target)\n",
    "\n",
    "def train_model(algo, num_iter):\n",
    "    torch.manual_seed(p.seed)\n",
    "    np.random.seed(p.seed)\n",
    "    random.seed(p.seed)\n",
    "\n",
    "    data_generator = DataGeneratorPommerman(\n",
    "\tp.env,\n",
    "\taugmenter=[\n",
    "            # DataAugmentor_v1()\n",
    "        ])\n",
    "\n",
    "    for i in range(num_iter):\n",
    "        print(f\"Iteration {i+1}/{num_iter} started\")\n",
    "        # generate data\n",
    "        policy = algo.get_policy()\n",
    "        data_generator.generate(p.episodes_per_iter, policy, q.get_transformer())\n",
    "\n",
    "        # train model on data\n",
    "        for j in range(p.gradient_steps_per_iter):\n",
    "            if p.episode_backward:\n",
    "                batch = data_generator.get_episode_buffer()\n",
    "            else:\n",
    "                batch = data_generator.get_batch_buffer(p.batch_size)\n",
    "            algo.train(batch)\n",
    " \n",
    "        print(\"------------------------\")\n",
    "        if i % p.intermediate_test == p.intermediate_test-1:\n",
    "            print(\"Testing model\")\n",
    "            algo.set_train(False)\n",
    "            policy = algo.get_policy()\n",
    "            data_generator.generate(p.episodes_per_eval, policy, q.get_transformer(), render=p.render_tests)\n",
    "            algo.set_train(True)\n",
    "            print(\"------------------------\")\n",
    "    return algo\n",
    "\n"
   ]
  },
  {
   "cell_type": "code",
   "execution_count": 10,
   "metadata": {},
   "outputs": [
    {
     "name": "stdout",
     "output_type": "stream",
     "text": [
      "Iteration 1/10 started\n"
     ]
    },
    {
     "ename": "FileNotFoundError",
     "evalue": "[Errno 2] No such file or directory: 'data/log'",
     "output_type": "error",
     "traceback": [
      "\u001b[1;31m---------------------------------------------------------------------------\u001b[0m",
      "\u001b[1;31mFileNotFoundError\u001b[0m                         Traceback (most recent call last)",
      "\u001b[1;32m<ipython-input-10-58f114427a20>\u001b[0m in \u001b[0;36m<module>\u001b[1;34m\u001b[0m\n\u001b[1;32m----> 1\u001b[1;33m \u001b[0mtrain_model\u001b[0m\u001b[1;33m(\u001b[0m\u001b[0malgo\u001b[0m\u001b[1;33m,\u001b[0m \u001b[1;36m10\u001b[0m\u001b[1;33m)\u001b[0m\u001b[1;33m\u001b[0m\u001b[1;33m\u001b[0m\u001b[0m\n\u001b[0m",
      "\u001b[1;32m<ipython-input-8-cdb1e5f020d1>\u001b[0m in \u001b[0;36mtrain_model\u001b[1;34m(algo, num_iter)\u001b[0m\n\u001b[0;32m     22\u001b[0m         \u001b[1;31m# generate data\u001b[0m\u001b[1;33m\u001b[0m\u001b[1;33m\u001b[0m\u001b[1;33m\u001b[0m\u001b[0m\n\u001b[0;32m     23\u001b[0m         \u001b[0mpolicy\u001b[0m \u001b[1;33m=\u001b[0m \u001b[0malgo\u001b[0m\u001b[1;33m.\u001b[0m\u001b[0mget_policy\u001b[0m\u001b[1;33m(\u001b[0m\u001b[1;33m)\u001b[0m\u001b[1;33m\u001b[0m\u001b[1;33m\u001b[0m\u001b[0m\n\u001b[1;32m---> 24\u001b[1;33m         \u001b[0mdata_generator\u001b[0m\u001b[1;33m.\u001b[0m\u001b[0mgenerate\u001b[0m\u001b[1;33m(\u001b[0m\u001b[0mp\u001b[0m\u001b[1;33m.\u001b[0m\u001b[0mepisodes_per_iter\u001b[0m\u001b[1;33m,\u001b[0m \u001b[0mpolicy\u001b[0m\u001b[1;33m,\u001b[0m \u001b[0mq\u001b[0m\u001b[1;33m.\u001b[0m\u001b[0mget_transformer\u001b[0m\u001b[1;33m(\u001b[0m\u001b[1;33m)\u001b[0m\u001b[1;33m)\u001b[0m\u001b[1;33m\u001b[0m\u001b[1;33m\u001b[0m\u001b[0m\n\u001b[0m\u001b[0;32m     25\u001b[0m \u001b[1;33m\u001b[0m\u001b[0m\n\u001b[0;32m     26\u001b[0m         \u001b[1;31m# train model on data\u001b[0m\u001b[1;33m\u001b[0m\u001b[1;33m\u001b[0m\u001b[1;33m\u001b[0m\u001b[0m\n",
      "\u001b[1;32mc:\\Users\\giala\\projects\\pommerman\\playground\\pommermanLearn\\data_generator.py\u001b[0m in \u001b[0;36mgenerate\u001b[1;34m(self, episodes, policy, transformer, render)\u001b[0m\n\u001b[0;32m    208\u001b[0m                         f\" Steps(FIFO): {skynet_reward_log[1][2]}, Bombs: {skynet_reward_log[1][3]}, Deaths: {skynet_reward_log[1][4]}\")\n\u001b[0;32m    209\u001b[0m         \u001b[0mlogging\u001b[0m\u001b[1;33m.\u001b[0m\u001b[0minfo\u001b[0m\u001b[1;33m(\u001b[0m\u001b[0mact_counts\u001b[0m\u001b[1;33m)\u001b[0m\u001b[1;33m\u001b[0m\u001b[1;33m\u001b[0m\u001b[0m\n\u001b[1;32m--> 210\u001b[1;33m         \u001b[1;31m# self.logger.write(res, ties, avg_rwd)\u001b[0m\u001b[1;33m\u001b[0m\u001b[1;33m\u001b[0m\u001b[1;33m\u001b[0m\u001b[0m\n\u001b[0m\u001b[0;32m    211\u001b[0m         \u001b[1;31m# TODO: Change the return type to something more readable outside the function\u001b[0m\u001b[1;33m\u001b[0m\u001b[1;33m\u001b[0m\u001b[1;33m\u001b[0m\u001b[0m\n\u001b[0;32m    212\u001b[0m         \u001b[1;32mreturn\u001b[0m \u001b[1;33m(\u001b[0m\u001b[0mres\u001b[0m\u001b[1;33m,\u001b[0m \u001b[0mties\u001b[0m\u001b[1;33m,\u001b[0m \u001b[0mavg_rwd\u001b[0m\u001b[1;33m,\u001b[0m \u001b[0mact_counts\u001b[0m\u001b[1;33m,\u001b[0m \u001b[0mavg_steps\u001b[0m\u001b[1;33m)\u001b[0m\u001b[1;33m\u001b[0m\u001b[1;33m\u001b[0m\u001b[0m\n",
      "\u001b[1;32mc:\\Users\\giala\\projects\\pommerman\\playground\\pommermanLearn\\logger.py\u001b[0m in \u001b[0;36mwrite\u001b[1;34m(self, *data)\u001b[0m\n\u001b[0;32m      9\u001b[0m         \u001b[0mdata_str\u001b[0m \u001b[1;33m+=\u001b[0m \u001b[1;34m\"\\n\"\u001b[0m\u001b[1;33m\u001b[0m\u001b[1;33m\u001b[0m\u001b[0m\n\u001b[0;32m     10\u001b[0m \u001b[1;33m\u001b[0m\u001b[0m\n\u001b[1;32m---> 11\u001b[1;33m         \u001b[1;32mwith\u001b[0m \u001b[0mopen\u001b[0m\u001b[1;33m(\u001b[0m\u001b[1;34m\"data/\"\u001b[0m\u001b[1;33m+\u001b[0m\u001b[0mself\u001b[0m\u001b[1;33m.\u001b[0m\u001b[0mname\u001b[0m\u001b[1;33m,\u001b[0m \u001b[1;34m\"a\"\u001b[0m\u001b[1;33m)\u001b[0m \u001b[1;32mas\u001b[0m \u001b[0mmyfile\u001b[0m\u001b[1;33m:\u001b[0m\u001b[1;33m\u001b[0m\u001b[1;33m\u001b[0m\u001b[0m\n\u001b[0m\u001b[0;32m     12\u001b[0m             \u001b[0mmyfile\u001b[0m\u001b[1;33m.\u001b[0m\u001b[0mwrite\u001b[0m\u001b[1;33m(\u001b[0m\u001b[0mdata_str\u001b[0m\u001b[1;33m)\u001b[0m\u001b[1;33m\u001b[0m\u001b[1;33m\u001b[0m\u001b[0m\n",
      "\u001b[1;31mFileNotFoundError\u001b[0m: [Errno 2] No such file or directory: 'data/log'"
     ]
    }
   ],
   "source": [
    "train_model(algo, 10)"
   ]
  },
  {
   "cell_type": "code",
   "execution_count": null,
   "metadata": {},
   "outputs": [],
   "source": []
  }
 ],
 "metadata": {
  "interpreter": {
   "hash": "43714aa13a1826bbf48609774dc72008d4afdb24f2488865b89cf3ad9b7af9e6"
  },
  "kernelspec": {
   "display_name": "Python 3.6.15 64-bit ('pommerman': conda)",
   "language": "python",
   "name": "python3"
  },
  "language_info": {
   "codemirror_mode": {
    "name": "ipython",
    "version": 3
   },
   "file_extension": ".py",
   "mimetype": "text/x-python",
   "name": "python",
   "nbconvert_exporter": "python",
   "pygments_lexer": "ipython3",
   "version": "3.6.15"
  },
  "orig_nbformat": 4
 },
 "nbformat": 4,
 "nbformat_minor": 2
}
