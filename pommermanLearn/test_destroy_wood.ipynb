{
 "cells": [
  {
   "cell_type": "code",
   "execution_count": 46,
   "metadata": {},
   "outputs": [],
   "source": [
    "import os\n",
    "import sys\n",
    "import numpy as np\n",
    "import random\n",
    "\n",
    "import pommerman\n",
    "from pommerman.agents import SimpleAgent, RandomAgent, PlayerAgent, BaseAgent\n",
    "from pommerman.configs import ffa_v0_fast_env,  one_vs_one_env\n",
    "from pommerman.envs.v0 import Pomme\n",
    "from pommerman.characters import Bomber\n",
    "from pommerman import utility\n",
    "\n",
    "from agents.train_agent import TrainAgent\n",
    "from agents.static_agent import StaticAgent\n",
    "from util.rewards import woods_close_to_bomb_reward\n",
    "\n",
    "from dqn import DQN\n",
    "from models import Pommer_Q\n",
    "import torch\n",
    "from util.data import transform_observation_centralized"
   ]
  },
  {
   "cell_type": "code",
   "execution_count": 47,
   "metadata": {},
   "outputs": [],
   "source": [
    "model_dir = \"../../data/tensorboard/20220117T154102/9\"\n",
    "\n",
    "q = Pommer_Q(21, transform_observation_centralized)\n",
    "q_target = Pommer_Q(21, transform_observation_centralized)\n",
    "\n",
    "q.load_state_dict(torch.load(model_dir))\n",
    "q_target.load_state_dict(torch.load(model_dir))\n",
    "\n",
    "algo = DQN(q, q_target)\n",
    "policy = algo.get_policy()\n",
    "\n",
    "agent_list = [\n",
    "    TrainAgent(policy),\n",
    "    StaticAgent(0),\n",
    "    StaticAgent(0),\n",
    "    StaticAgent(0),\n",
    "]\n",
    "\n",
    "env = pommerman.make('PommeTeamCompetition-v0', agent_list)"
   ]
  },
  {
   "cell_type": "code",
   "execution_count": 48,
   "metadata": {},
   "outputs": [],
   "source": [
    "# Seed and reset the environment\n",
    "env.seed(0)\n",
    "obs = env.reset()"
   ]
  },
  {
   "cell_type": "code",
   "execution_count": 104,
   "metadata": {},
   "outputs": [
    {
     "name": "stdout",
     "output_type": "stream",
     "text": [
      "0.1\n",
      "[3, 0, 0, 0]\n"
     ]
    }
   ],
   "source": [
    "actions = env.act(obs)\n",
    "nobs, reward, done, info = env.step(actions)\n",
    "env.render()\n",
    "bomb_pos = obs[0]['position']\n",
    "blast_strength = obs[0]['blast_strength']\n",
    "obs = nobs\n",
    "print(woods_close_to_bomb_reward(obs[0], bomb_pos, blast_strength, 0))\n",
    "print(actions)\n",
    "\n",
    "# env.close()"
   ]
  },
  {
   "cell_type": "code",
   "execution_count": 106,
   "metadata": {},
   "outputs": [],
   "source": [
    "env.close()"
   ]
  },
  {
   "cell_type": "code",
   "execution_count": null,
   "metadata": {},
   "outputs": [],
   "source": [
    "def woods_close_to_bomb_reward(obs, bomb_pos, blast_strength):\n",
    "    ''' returns the number ob wooden blocks that would be destroyed by a given bomb '''\n",
    "\n",
    "    num_wood = 0\n",
    "    board = obs['board']\n",
    "    wood_bitmap = np.isin(board, 2).astype(np.uint8)\n",
    "    wood_positions = np.where(wood_bitmap==1)\n",
    "    wood_positions = list(zip(wood_positions[0], wood_positions[1]))\n",
    "\n",
    "    # for every wooden block check if it would be destroyed\n",
    "    for wood_pos in wood_positions:\n",
    "        dist_wood_bomb = np.abs(np.array(list(wood_pos))-np.array(list(bomb_pos)))\n",
    "        if np.any(dist_wood_bomb == 0):\n",
    "            if np.all(dist_wood_bomb < blast_strength):\n",
    "                num_wood += 1\n",
    "    # for each wood reward 0.005\n",
    "    reward = 0.005 * num_wood\n",
    "    return reward"
   ]
  },
  {
   "cell_type": "code",
   "execution_count": null,
   "metadata": {},
   "outputs": [],
   "source": [
    "def num_wood_destroyed(act, obs, nobs, agents_bomb_pos):\n",
    "\n",
    "    num_wood_destroyed = 0\n",
    "    # check if agent has layed bomb, save its position and blast strength\n",
    "    # if act[0] == 5:\n",
    "    #     agents_bomb_pos = obs[0]['position']\n",
    "    #     agents_bomb_blast_strength = obs[0]['bomb_blast_strength'][agents_bomb_pos]\n",
    "    # check if wooden block disappeared\n",
    "    board = obs[0]['board']\n",
    "    board_new = nobs[0]['board']\n",
    "    wood_bitmap = np.isin(board, 2).astype(np.uint8)\n",
    "    wood_bitmap_new = np.isin(board_new, 2).astype(np.uint8)\n",
    "    destroyed_wood_bitmap = np.isin(wood_bitmap-wood_bitmap_new, [-1,1]).astype(np.uint8)\n",
    "    destroyed_wood_pos = np.where(destroyed_wood_bitmap==1)\n",
    "    destroyed_wood_pos = list(zip(destroyed_wood_pos[0], destroyed_wood_pos[1]))\n",
    "\n",
    "    # check if agents bomb exploded\n",
    "    if obs[0]['board'][agents_bomb_pos] != 3:\n",
    "            # check if agents bomb destroyed wood\n",
    "            for wood in destroyed_wood_pos:\n",
    "                dist_wood_bomb = np.array(list(wood))-np.array(list(agents_bomb_pos))\n",
    "                if  np.any(dist_wood_bomb == 0):\n",
    "                    if np.all(dist_wood_bomb < 2):\n",
    "                        num_wood_destroyed += 1\n",
    "\n",
    "    return num_wood_destroyed\n",
    "\n",
    "\n"
   ]
  }
 ],
 "metadata": {
  "interpreter": {
   "hash": "9de723081de5bfdd51bce4c79d8dba6c8ea302969101c340fa1b4b63d2428704"
  },
  "kernelspec": {
   "display_name": "Python 3.7.11 64-bit ('pommerman2': conda)",
   "language": "python",
   "name": "python3"
  },
  "language_info": {
   "codemirror_mode": {
    "name": "ipython",
    "version": 3
   },
   "file_extension": ".py",
   "mimetype": "text/x-python",
   "name": "python",
   "nbconvert_exporter": "python",
   "pygments_lexer": "ipython3",
   "version": "3.6.15"
  },
  "orig_nbformat": 4
 },
 "nbformat": 4,
 "nbformat_minor": 2
}
