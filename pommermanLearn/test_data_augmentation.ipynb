{
 "cells": [
  {
   "cell_type": "code",
   "execution_count": 2,
   "metadata": {},
   "outputs": [],
   "source": [
    "import os\n",
    "import sys\n",
    "import numpy as np\n",
    "import random\n",
    "\n",
    "from pommerman.agents import SimpleAgent, RandomAgent, PlayerAgent, BaseAgent\n",
    "from pommerman.configs import ffa_v0_fast_env,  one_vs_one_env\n",
    "from pommerman.envs.v0 import Pomme\n",
    "from pommerman.characters import Bomber\n",
    "from pommerman import utility\n",
    "\n",
    "from pommerman.constants import Action"
   ]
  },
  {
   "cell_type": "code",
   "execution_count": 48,
   "metadata": {},
   "outputs": [],
   "source": [
    "def rotate_obs(obs):\n",
    "    \"\"\"\n",
    "    Rotate an agents observation by 90 degrees counter-clockwise\n",
    "    \"\"\"\n",
    "    rotated_obs = obs.copy()\n",
    "    rotated_obs['board'] = np.rot90(obs['board'])\n",
    "    rotated_obs['bomb_blast_strength'] = np.rot90(obs['bomb_blast_strength']) \n",
    "    rotated_obs['bomb_life'] = np.rot90(obs['bomb_life']) \n",
    "    rotated_obs['bomb_moving_direction'] = np.rot90(obs['bomb_moving_direction']) \n",
    "    rotated_obs['flame_life'] = np.rot90(obs['flame_life'])\n",
    "\n",
    "    # rotate position of agent\n",
    "    rotated_obs['position'] = (-obs['position'][1]+10, obs['position'][0]) \n",
    "    return rotated_obs\n",
    "\n",
    "def rotate_action(action):\n",
    "    \"\"\"\n",
    "    Rotate an agents actions by 90 degrees counter-clockwise\n",
    "    \"\"\"\n",
    "    if action == Action.Stop.value or Action.Bomb.value:\n",
    "        action_rotated = action\n",
    "    elif action == Action.Up.value:\n",
    "        action_rotated = Action.Left.value\n",
    "    elif action == Action.Down.value:\n",
    "        action_rotated = Action.Right.value\n",
    "    elif action == Action.Left.value:\n",
    "        action_rotated = Action.Down.value\n",
    "    elif action == Action.Right.value:\n",
    "        action_rotated = Action.Up.value\n",
    "    return action_rotated\n",
    "\n",
    "def mirror_horizontal_obs(obs):\n",
    "    \"\"\"\n",
    "    Mirror an agents observation horizontally\n",
    "    \"\"\"\n",
    "    mirrored_obs = obs.copy()\n",
    "    mirrored_obs['board'] = np.flip(obs['board'], 1)\n",
    "    mirrored_obs['bomb_blast_strength'] = np.flip(obs['bomb_blast_strength'], 1) \n",
    "    mirrored_obs['bomb_life'] = np.flip(obs['bomb_life'], 1) \n",
    "    mirrored_obs['bomb_moving_direction'] = np.flip(obs['bomb_moving_direction'], 1) \n",
    "    mirrored_obs['flame_life'] = np.flip(obs['flame_life'], 1)\n",
    "\n",
    "    # mirror position of agent\n",
    "    mirrored_obs['position'] = (10-obs['position'][0], obs['position'][1]) \n",
    "    return mirrored_obs\n",
    "\n",
    "def mirror_horizontal_action(action):\n",
    "    '''\n",
    "    Mirror an agents observation horizontally\n",
    "    '''\n",
    "    if action == Action.Stop.value or Action.Bomb.value or action == Action.Up.value or action == Action.Down.value:\n",
    "        action_mirrored = action\n",
    "    elif action == Action.Left.value:\n",
    "        action_mirrored = Action.Right.value\n",
    "    elif action == Action.Right.value:\n",
    "        action_mirrored = Action.Left.value\n",
    "    return action_mirrored\n",
    "\n",
    "def mirror_vertical_obs(obs):\n",
    "    \"\"\"\n",
    "    Mirror an agents transition vertically\n",
    "    \"\"\"\n",
    "    mirrored_obs = obs.copy()\n",
    "    mirrored_obs['board'] = np.flip(obs['board'], 0)\n",
    "    mirrored_obs['bomb_blast_strength'] = np.flip(obs['bomb_blast_strength'], 0) \n",
    "    mirrored_obs['bomb_life'] = np.flip(obs['bomb_life'], 0) \n",
    "    mirrored_obs['bomb_moving_direction'] = np.flip(obs['bomb_moving_direction'], 0) \n",
    "    mirrored_obs['flame_life'] = np.flip(obs['flame_life'], 0)\n",
    "\n",
    "    # mirror position of agent\n",
    "    mirrored_obs['position'] = (obs['position'][0], 10-obs['position'][1]) \n",
    "    return mirrored_obs\n",
    "\n",
    "def mirror_vertical_action(action):\n",
    "    \"\"\"\n",
    "    Mirror an agents actions vertically\n",
    "    \"\"\"\n",
    "    if action == Action.Stop.value or Action.Bomb.value or action == Action.Left.value or action == Action.Right.value:\n",
    "        action_mirrored = action\n",
    "    elif action == Action.Up.value:\n",
    "        action_mirrored = Action.Down.value\n",
    "    elif action == Action.Down.value:\n",
    "        action_mirrored = Action.Up.value\n",
    "    return action_mirrored"
   ]
  },
  {
   "cell_type": "code",
   "execution_count": 49,
   "metadata": {},
   "outputs": [
    {
     "data": {
      "text/plain": [
       "{'alive': [10, 11],\n",
       " 'board': array([[ 0,  2,  2,  2,  0,  2,  2,  2,  2,  0,  0],\n",
       "        [ 0,  2,  1,  0,  1,  1,  2,  0,  0, 11,  0],\n",
       "        [ 2,  0,  0,  1,  1,  1,  1,  0,  0,  0,  2],\n",
       "        [ 0,  1,  0,  1,  2,  1,  1,  0,  0,  0,  2],\n",
       "        [ 0,  2,  2,  0,  2,  2,  0,  1,  1,  2,  2],\n",
       "        [ 0,  2,  1,  1,  1,  0,  2,  1,  1,  1,  2],\n",
       "        [ 2,  1,  2,  1,  0,  1,  2,  2,  1,  1,  0],\n",
       "        [ 0,  0,  1,  0,  1,  1,  0,  1,  1,  0,  2],\n",
       "        [ 1,  0,  0,  1,  2,  1,  2,  0,  0,  1,  2],\n",
       "        [ 0, 10,  0,  0,  1,  2,  2,  1,  0,  2,  2],\n",
       "        [ 0,  0,  1,  0,  2,  0,  0,  0,  2,  0,  0]], dtype=uint8),\n",
       " 'bomb_blast_strength': array([[0., 0., 0., 0., 0., 0., 0., 0., 0., 0., 0.],\n",
       "        [0., 0., 0., 0., 0., 0., 0., 0., 0., 0., 0.],\n",
       "        [0., 0., 0., 0., 0., 0., 0., 0., 0., 0., 0.],\n",
       "        [0., 0., 0., 0., 0., 0., 0., 0., 0., 0., 0.],\n",
       "        [0., 0., 0., 0., 0., 0., 0., 0., 0., 0., 0.],\n",
       "        [0., 0., 0., 0., 0., 0., 0., 0., 0., 0., 0.],\n",
       "        [0., 0., 0., 0., 0., 0., 0., 0., 0., 0., 0.],\n",
       "        [0., 0., 0., 0., 0., 0., 0., 0., 0., 0., 0.],\n",
       "        [0., 0., 0., 0., 0., 0., 0., 0., 0., 0., 0.],\n",
       "        [0., 0., 0., 0., 0., 0., 0., 0., 0., 0., 0.],\n",
       "        [0., 0., 0., 0., 0., 0., 0., 0., 0., 0., 0.]]),\n",
       " 'bomb_life': array([[0., 0., 0., 0., 0., 0., 0., 0., 0., 0., 0.],\n",
       "        [0., 0., 0., 0., 0., 0., 0., 0., 0., 0., 0.],\n",
       "        [0., 0., 0., 0., 0., 0., 0., 0., 0., 0., 0.],\n",
       "        [0., 0., 0., 0., 0., 0., 0., 0., 0., 0., 0.],\n",
       "        [0., 0., 0., 0., 0., 0., 0., 0., 0., 0., 0.],\n",
       "        [0., 0., 0., 0., 0., 0., 0., 0., 0., 0., 0.],\n",
       "        [0., 0., 0., 0., 0., 0., 0., 0., 0., 0., 0.],\n",
       "        [0., 0., 0., 0., 0., 0., 0., 0., 0., 0., 0.],\n",
       "        [0., 0., 0., 0., 0., 0., 0., 0., 0., 0., 0.],\n",
       "        [0., 0., 0., 0., 0., 0., 0., 0., 0., 0., 0.],\n",
       "        [0., 0., 0., 0., 0., 0., 0., 0., 0., 0., 0.]]),\n",
       " 'bomb_moving_direction': array([[0., 0., 0., 0., 0., 0., 0., 0., 0., 0., 0.],\n",
       "        [0., 0., 0., 0., 0., 0., 0., 0., 0., 0., 0.],\n",
       "        [0., 0., 0., 0., 0., 0., 0., 0., 0., 0., 0.],\n",
       "        [0., 0., 0., 0., 0., 0., 0., 0., 0., 0., 0.],\n",
       "        [0., 0., 0., 0., 0., 0., 0., 0., 0., 0., 0.],\n",
       "        [0., 0., 0., 0., 0., 0., 0., 0., 0., 0., 0.],\n",
       "        [0., 0., 0., 0., 0., 0., 0., 0., 0., 0., 0.],\n",
       "        [0., 0., 0., 0., 0., 0., 0., 0., 0., 0., 0.],\n",
       "        [0., 0., 0., 0., 0., 0., 0., 0., 0., 0., 0.],\n",
       "        [0., 0., 0., 0., 0., 0., 0., 0., 0., 0., 0.],\n",
       "        [0., 0., 0., 0., 0., 0., 0., 0., 0., 0., 0.]]),\n",
       " 'flame_life': array([[0., 0., 0., 0., 0., 0., 0., 0., 0., 0., 0.],\n",
       "        [0., 0., 0., 0., 0., 0., 0., 0., 0., 0., 0.],\n",
       "        [0., 0., 0., 0., 0., 0., 0., 0., 0., 0., 0.],\n",
       "        [0., 0., 0., 0., 0., 0., 0., 0., 0., 0., 0.],\n",
       "        [0., 0., 0., 0., 0., 0., 0., 0., 0., 0., 0.],\n",
       "        [0., 0., 0., 0., 0., 0., 0., 0., 0., 0., 0.],\n",
       "        [0., 0., 0., 0., 0., 0., 0., 0., 0., 0., 0.],\n",
       "        [0., 0., 0., 0., 0., 0., 0., 0., 0., 0., 0.],\n",
       "        [0., 0., 0., 0., 0., 0., 0., 0., 0., 0., 0.],\n",
       "        [0., 0., 0., 0., 0., 0., 0., 0., 0., 0., 0.],\n",
       "        [0., 0., 0., 0., 0., 0., 0., 0., 0., 0., 0.]]),\n",
       " 'game_type': 1,\n",
       " 'game_env': 'pommerman.envs.v0:Pomme',\n",
       " 'position': (9, 1),\n",
       " 'blast_strength': 2,\n",
       " 'can_kick': False,\n",
       " 'teammate': <Item.AgentDummy: 9>,\n",
       " 'ammo': 1,\n",
       " 'enemies': [<Item.Agent1: 11>, <Item.Agent2: 12>, <Item.Agent3: 13>],\n",
       " 'step_count': 0}"
      ]
     },
     "execution_count": 49,
     "metadata": {},
     "output_type": "execute_result"
    }
   ],
   "source": [
    "rotate_obs(obs[0])"
   ]
  },
  {
   "cell_type": "code",
   "execution_count": 50,
   "metadata": {},
   "outputs": [
    {
     "ename": "TypeError",
     "evalue": "rotate_obs() takes 1 positional argument but 2 were given",
     "output_type": "error",
     "traceback": [
      "\u001b[1;31m---------------------------------------------------------------------------\u001b[0m",
      "\u001b[1;31mTypeError\u001b[0m                                 Traceback (most recent call last)",
      "\u001b[1;32m<ipython-input-50-409a3cec4f47>\u001b[0m in \u001b[0;36m<module>\u001b[1;34m\u001b[0m\n\u001b[0;32m      2\u001b[0m \u001b[1;33m\u001b[0m\u001b[0m\n\u001b[0;32m      3\u001b[0m \u001b[0maug\u001b[0m \u001b[1;33m=\u001b[0m \u001b[0mDataAugmentor_v1\u001b[0m\u001b[1;33m(\u001b[0m\u001b[1;33m)\u001b[0m\u001b[1;33m\u001b[0m\u001b[1;33m\u001b[0m\u001b[0m\n\u001b[1;32m----> 4\u001b[1;33m \u001b[0maug\u001b[0m\u001b[1;33m.\u001b[0m\u001b[0maugment\u001b[0m\u001b[1;33m(\u001b[0m\u001b[0mobs\u001b[0m\u001b[1;33m[\u001b[0m\u001b[1;36m0\u001b[0m\u001b[1;33m]\u001b[0m\u001b[1;33m,\u001b[0m \u001b[1;36m4\u001b[0m\u001b[1;33m,\u001b[0m \u001b[1;36m1\u001b[0m\u001b[1;33m,\u001b[0m \u001b[0mobs\u001b[0m\u001b[1;33m[\u001b[0m\u001b[1;36m0\u001b[0m\u001b[1;33m]\u001b[0m\u001b[1;33m,\u001b[0m \u001b[1;32mFalse\u001b[0m\u001b[1;33m)\u001b[0m\u001b[1;33m\u001b[0m\u001b[1;33m\u001b[0m\u001b[0m\n\u001b[0m\u001b[0;32m      5\u001b[0m \u001b[1;31m# aug.rotate_obs(obs[0])\u001b[0m\u001b[1;33m\u001b[0m\u001b[1;33m\u001b[0m\u001b[1;33m\u001b[0m\u001b[0m\n",
      "\u001b[1;32mc:\\Users\\giala\\projects\\pommerman\\playground\\pommermanLearn\\data_augmentation.py\u001b[0m in \u001b[0;36maugment\u001b[1;34m(self, obs, action, reward, nobs, done)\u001b[0m\n\u001b[0;32m     52\u001b[0m \u001b[1;33m\u001b[0m\u001b[0m\n\u001b[0;32m     53\u001b[0m         \u001b[1;31m# rotate transitions by 90, 180 and 270 degrees counterclockwise\u001b[0m\u001b[1;33m\u001b[0m\u001b[1;33m\u001b[0m\u001b[1;33m\u001b[0m\u001b[0m\n\u001b[1;32m---> 54\u001b[1;33m         \u001b[0mobs_90\u001b[0m \u001b[1;33m=\u001b[0m \u001b[0mself\u001b[0m\u001b[1;33m.\u001b[0m\u001b[0mrotate_obs\u001b[0m\u001b[1;33m(\u001b[0m\u001b[0mobs\u001b[0m\u001b[1;33m)\u001b[0m\u001b[1;33m\u001b[0m\u001b[1;33m\u001b[0m\u001b[0m\n\u001b[0m\u001b[0;32m     55\u001b[0m         \u001b[0mnobs_90\u001b[0m \u001b[1;33m=\u001b[0m \u001b[0mself\u001b[0m\u001b[1;33m.\u001b[0m\u001b[0mrotate_obs\u001b[0m\u001b[1;33m(\u001b[0m\u001b[0mnobs\u001b[0m\u001b[1;33m)\u001b[0m\u001b[1;33m\u001b[0m\u001b[1;33m\u001b[0m\u001b[0m\n\u001b[0;32m     56\u001b[0m         \u001b[0maction_90\u001b[0m \u001b[1;33m=\u001b[0m \u001b[0mself\u001b[0m\u001b[1;33m.\u001b[0m\u001b[0mrotate_action\u001b[0m\u001b[1;33m(\u001b[0m\u001b[0maction\u001b[0m\u001b[1;33m)\u001b[0m\u001b[1;33m\u001b[0m\u001b[1;33m\u001b[0m\u001b[0m\n",
      "\u001b[1;31mTypeError\u001b[0m: rotate_obs() takes 1 positional argument but 2 were given"
     ]
    }
   ],
   "source": [
    "from data_augmentation import DataAugmentor_v1\n",
    "\n",
    "aug = DataAugmentor_v1()\n",
    "aug.augment(obs[0], 4, 1, obs[0], False)\n",
    "# aug.rotate_obs(obs[0])"
   ]
  },
  {
   "cell_type": "code",
   "execution_count": 34,
   "metadata": {},
   "outputs": [
    {
     "name": "stdout",
     "output_type": "stream",
     "text": [
      "[[ 0  2  2  2  0  2  2  2  2  0  0]\n",
      " [ 0  2  1  0  1  1  2  0  0 11  0]\n",
      " [ 2  0  0  1  1  1  1  0  0  0  2]\n",
      " [ 0  1  0  1  2  1  1  0  0  0  2]\n",
      " [ 0  2  2  0  2  2  0  1  1  2  2]\n",
      " [ 0  2  1  1  1  0  2  1  1  1  2]\n",
      " [ 2  1  2  1  0  1  2  2  1  1  0]\n",
      " [ 0  0  1  0  1  1  0  1  1  0  2]\n",
      " [ 1  0  0  1  2  1  2  0  0  1  2]\n",
      " [ 0 10  0  0  1  2  2  1  0  2  2]\n",
      " [ 0  0  1  0  2  0  0  0  2  0  0]]\n",
      "(1, 9)\n"
     ]
    }
   ],
   "source": [
    "nobs = obs[0]\n",
    "\n",
    "mirrored_nobs = mirror_vertical_obs(nobs)\n",
    "# np.flip(obs[0]['board'], 0)\n",
    "\n",
    "print(mirrored_nobs['board'])\n",
    "print(mirrored_nobs['position'])\n",
    "\n"
   ]
  },
  {
   "cell_type": "code",
   "execution_count": 39,
   "metadata": {},
   "outputs": [
    {
     "data": {
      "text/plain": [
       "array([[9, 6, 3],\n",
       "       [8, 5, 2],\n",
       "       [7, 4, 1]])"
      ]
     },
     "execution_count": 39,
     "metadata": {},
     "output_type": "execute_result"
    }
   ],
   "source": [
    "array = np.array([[1,2,3],\n",
    "                [4,5,6],\n",
    "                [7,8,9]])\n",
    "\n",
    "a = np.flip(array, 0)\n",
    "np.rot90(a)"
   ]
  },
  {
   "cell_type": "code",
   "execution_count": 4,
   "metadata": {},
   "outputs": [],
   "source": [
    "# Instantiate the environment\n",
    "config = ffa_v0_fast_env()\n",
    "env = Pomme(**config[\"env_kwargs\"])\n",
    "\n",
    "# Add four random agents\n",
    "agents = {}\n",
    "for agent_id in range(2):\n",
    "    agents[agent_id] = RandomAgent(config[\"agent\"](agent_id, config[\"game_type\"]))\n",
    "env.set_agents(list(agents.values()))\n",
    "env.set_init_game_state(None)"
   ]
  },
  {
   "cell_type": "code",
   "execution_count": 5,
   "metadata": {},
   "outputs": [],
   "source": [
    "# Seed and reset the environment\n",
    "env.seed(0)\n",
    "obs = env.reset()"
   ]
  },
  {
   "cell_type": "code",
   "execution_count": 4,
   "metadata": {},
   "outputs": [
    {
     "data": {
      "text/plain": [
       "1"
      ]
     },
     "execution_count": 4,
     "metadata": {},
     "output_type": "execute_result"
    }
   ],
   "source": [
    "a = (1,2,3)\n",
    "a[0]"
   ]
  }
 ],
 "metadata": {
  "interpreter": {
   "hash": "43714aa13a1826bbf48609774dc72008d4afdb24f2488865b89cf3ad9b7af9e6"
  },
  "kernelspec": {
   "display_name": "Python 3.6.15 64-bit ('pommerman': conda)",
   "language": "python",
   "name": "python3"
  },
  "language_info": {
   "codemirror_mode": {
    "name": "ipython",
    "version": 3
   },
   "file_extension": ".py",
   "mimetype": "text/x-python",
   "name": "python",
   "nbconvert_exporter": "python",
   "pygments_lexer": "ipython3",
   "version": "3.6.15"
  },
  "orig_nbformat": 4
 },
 "nbformat": 4,
 "nbformat_minor": 2
}
