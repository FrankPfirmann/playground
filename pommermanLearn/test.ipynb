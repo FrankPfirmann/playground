{
 "cells": [
  {
   "cell_type": "code",
   "execution_count": 69,
   "metadata": {},
   "outputs": [
    {
     "data": {
      "text/plain": [
       "2"
      ]
     },
     "execution_count": 69,
     "metadata": {},
     "output_type": "execute_result"
    }
   ],
   "source": [
    "abs(-2)"
   ]
  },
  {
   "cell_type": "code",
   "execution_count": 19,
   "metadata": {},
   "outputs": [
    {
     "data": {
      "text/plain": [
       "[({'board': array([], shape=(0, 1), dtype=float64),\n",
       "   'bomb_blast_strength': array([], shape=(0, 1), dtype=float64),\n",
       "   'bomb_life': array([], shape=(0, 1), dtype=float64),\n",
       "   'bomb_moving_direction': array([], shape=(0, 1), dtype=float64),\n",
       "   'flame_life': array([], shape=(0, 1), dtype=float64),\n",
       "   'position': (10, 0)},\n",
       "  5,\n",
       "  3.0,\n",
       "  {'board': array([], shape=(0, 1), dtype=float64),\n",
       "   'bomb_blast_strength': array([], shape=(0, 1), dtype=float64),\n",
       "   'bomb_life': array([], shape=(0, 1), dtype=float64),\n",
       "   'bomb_moving_direction': array([], shape=(0, 1), dtype=float64),\n",
       "   'flame_life': array([], shape=(0, 1), dtype=float64),\n",
       "   'position': (10, 0)},\n",
       "  True),\n",
       " ({'board': array([], shape=(1, 0), dtype=float64),\n",
       "   'bomb_blast_strength': array([], shape=(1, 0), dtype=float64),\n",
       "   'bomb_life': array([], shape=(1, 0), dtype=float64),\n",
       "   'bomb_moving_direction': array([], shape=(1, 0), dtype=float64),\n",
       "   'flame_life': array([], shape=(1, 0), dtype=float64),\n",
       "   'position': (10, 10)},\n",
       "  5,\n",
       "  3.0,\n",
       "  {'board': array([], shape=(1, 0), dtype=float64),\n",
       "   'bomb_blast_strength': array([], shape=(1, 0), dtype=float64),\n",
       "   'bomb_life': array([], shape=(1, 0), dtype=float64),\n",
       "   'bomb_moving_direction': array([], shape=(1, 0), dtype=float64),\n",
       "   'flame_life': array([], shape=(1, 0), dtype=float64),\n",
       "   'position': (10, 10)},\n",
       "  True),\n",
       " ({'board': array([], shape=(0, 1), dtype=float64),\n",
       "   'bomb_blast_strength': array([], shape=(0, 1), dtype=float64),\n",
       "   'bomb_life': array([], shape=(0, 1), dtype=float64),\n",
       "   'bomb_moving_direction': array([], shape=(0, 1), dtype=float64),\n",
       "   'flame_life': array([], shape=(0, 1), dtype=float64),\n",
       "   'position': (0, 10)},\n",
       "  5,\n",
       "  3.0,\n",
       "  {'board': array([], shape=(0, 1), dtype=float64),\n",
       "   'bomb_blast_strength': array([], shape=(0, 1), dtype=float64),\n",
       "   'bomb_life': array([], shape=(0, 1), dtype=float64),\n",
       "   'bomb_moving_direction': array([], shape=(0, 1), dtype=float64),\n",
       "   'flame_life': array([], shape=(0, 1), dtype=float64),\n",
       "   'position': (0, 10)},\n",
       "  True),\n",
       " ({'board': array([], shape=(1, 0), dtype=float64),\n",
       "   'bomb_blast_strength': array([], shape=(1, 0), dtype=float64),\n",
       "   'bomb_life': array([], shape=(1, 0), dtype=float64),\n",
       "   'bomb_moving_direction': array([], shape=(1, 0), dtype=float64),\n",
       "   'flame_life': array([], shape=(1, 0), dtype=float64),\n",
       "   'position': (10, 0)},\n",
       "  5,\n",
       "  3.0,\n",
       "  {'board': array([], shape=(1, 0), dtype=float64),\n",
       "   'bomb_blast_strength': array([], shape=(1, 0), dtype=float64),\n",
       "   'bomb_life': array([], shape=(1, 0), dtype=float64),\n",
       "   'bomb_moving_direction': array([], shape=(1, 0), dtype=float64),\n",
       "   'flame_life': array([], shape=(1, 0), dtype=float64),\n",
       "   'position': (10, 0)},\n",
       "  True),\n",
       " ({'board': array([], shape=(1, 0), dtype=float64),\n",
       "   'bomb_blast_strength': array([], shape=(1, 0), dtype=float64),\n",
       "   'bomb_life': array([], shape=(1, 0), dtype=float64),\n",
       "   'bomb_moving_direction': array([], shape=(1, 0), dtype=float64),\n",
       "   'flame_life': array([], shape=(1, 0), dtype=float64),\n",
       "   'position': (0, 10)},\n",
       "  5,\n",
       "  3.0,\n",
       "  {'board': array([], shape=(1, 0), dtype=float64),\n",
       "   'bomb_blast_strength': array([], shape=(1, 0), dtype=float64),\n",
       "   'bomb_life': array([], shape=(1, 0), dtype=float64),\n",
       "   'bomb_moving_direction': array([], shape=(1, 0), dtype=float64),\n",
       "   'flame_life': array([], shape=(1, 0), dtype=float64),\n",
       "   'position': (0, 10)},\n",
       "  True),\n",
       " ({'board': array([], shape=(1, 0), dtype=float64),\n",
       "   'bomb_blast_strength': array([], shape=(1, 0), dtype=float64),\n",
       "   'bomb_life': array([], shape=(1, 0), dtype=float64),\n",
       "   'bomb_moving_direction': array([], shape=(1, 0), dtype=float64),\n",
       "   'flame_life': array([], shape=(1, 0), dtype=float64),\n",
       "   'position': (10, 10)},\n",
       "  5,\n",
       "  3.0,\n",
       "  {'board': array([], shape=(1, 0), dtype=float64),\n",
       "   'bomb_blast_strength': array([], shape=(1, 0), dtype=float64),\n",
       "   'bomb_life': array([], shape=(1, 0), dtype=float64),\n",
       "   'bomb_moving_direction': array([], shape=(1, 0), dtype=float64),\n",
       "   'flame_life': array([], shape=(1, 0), dtype=float64),\n",
       "   'position': (10, 10)},\n",
       "  True),\n",
       " ({'board': array([], shape=(0, 1), dtype=float64),\n",
       "   'bomb_blast_strength': array([], shape=(0, 1), dtype=float64),\n",
       "   'bomb_life': array([], shape=(0, 1), dtype=float64),\n",
       "   'bomb_moving_direction': array([], shape=(0, 1), dtype=float64),\n",
       "   'flame_life': array([], shape=(0, 1), dtype=float64),\n",
       "   'position': (0, 0)},\n",
       "  5,\n",
       "  3.0,\n",
       "  {'board': array([], shape=(0, 1), dtype=float64),\n",
       "   'bomb_blast_strength': array([], shape=(0, 1), dtype=float64),\n",
       "   'bomb_life': array([], shape=(0, 1), dtype=float64),\n",
       "   'bomb_moving_direction': array([], shape=(0, 1), dtype=float64),\n",
       "   'flame_life': array([], shape=(0, 1), dtype=float64),\n",
       "   'position': (0, 0)},\n",
       "  True),\n",
       " ({'board': array([], shape=(0, 1), dtype=float64),\n",
       "   'bomb_blast_strength': array([], shape=(0, 1), dtype=float64),\n",
       "   'bomb_life': array([], shape=(0, 1), dtype=float64),\n",
       "   'bomb_moving_direction': array([], shape=(0, 1), dtype=float64),\n",
       "   'flame_life': array([], shape=(0, 1), dtype=float64),\n",
       "   'position': (10, 10)},\n",
       "  5,\n",
       "  3.0,\n",
       "  {'board': array([], shape=(0, 1), dtype=float64),\n",
       "   'bomb_blast_strength': array([], shape=(0, 1), dtype=float64),\n",
       "   'bomb_life': array([], shape=(0, 1), dtype=float64),\n",
       "   'bomb_moving_direction': array([], shape=(0, 1), dtype=float64),\n",
       "   'flame_life': array([], shape=(0, 1), dtype=float64),\n",
       "   'position': (10, 10)},\n",
       "  True)]"
      ]
     },
     "execution_count": 19,
     "metadata": {},
     "output_type": "execute_result"
    }
   ],
   "source": [
    "import numpy as np\n",
    "from data_augmentation import DataAugmentor_v1\n",
    "\n",
    "da = DataAugmentor_v1()\n",
    "a = np.array([[1,2,3],\n",
    "        [4,5,6],\n",
    "        [7,8,9]])\n",
    "\n",
    "a = np.array([[]])\n",
    "\n",
    "obs = {'board': a,\n",
    "        'bomb_blast_strength': a, \n",
    "        'bomb_life': a,\n",
    "        'bomb_moving_direction': a,\n",
    "        'flame_life': a,\n",
    "        'position': (0,0)}\n",
    "\n",
    "test = da.augment(obs, 5, 3.0, obs, True)\n",
    "\n",
    "test"
   ]
  },
  {
   "cell_type": "code",
   "execution_count": 4,
   "metadata": {},
   "outputs": [
    {
     "name": "stdout",
     "output_type": "stream",
     "text": [
      "1 2 3 4 0 5\n"
     ]
    }
   ],
   "source": [
    "from pommerman.constants import Action\n",
    "print(Action.Up.value, Action.Down.value, Action.Left.value, Action.Right.value, Action.Stop.value, Action.Bomb.value)"
   ]
  },
  {
   "cell_type": "code",
   "execution_count": 21,
   "metadata": {},
   "outputs": [
    {
     "data": {
      "text/plain": [
       "3"
      ]
     },
     "execution_count": 21,
     "metadata": {},
     "output_type": "execute_result"
    }
   ],
   "source": [
    "from pommerman.constants import Action\n",
    "\n",
    "Action.Up.value\n",
    "    \n",
    "Action.Left.value"
   ]
  },
  {
   "cell_type": "code",
   "execution_count": 67,
   "metadata": {},
   "outputs": [],
   "source": [
    "import numpy as np\n",
    "\n",
    "def init_agent_list(agent1, agent2, policy1, policy2, enemy, setposition=False):\n",
    "        '''\n",
    "        Helper method for creating agent_list\n",
    "        :param agent1: string identifying agent1\n",
    "        :param agent2: string identifying agent2\n",
    "        :param policy: policy a train agent follows\n",
    "        :param setPosition: whether we initialize agent1 always on top left or randomly\n",
    "        :return: agent indexes, igent ids on board observation and agent list of agent objects\n",
    "        '''\n",
    "        agent_list = [None] * 4\n",
    "        agent_ind = 0 if setposition else np.random.randint(2)\n",
    "        for i in range(0, 4):   \n",
    "\n",
    "            if i == agent_ind:\n",
    "                agent_str = agent1 \n",
    "            elif i == agent_ind + 2:\n",
    "                agent_str = agent2\n",
    "            else:\n",
    "                agent_str = enemy\n",
    "\n",
    "            if agent_str.startswith('static'):\n",
    "                _, action = agent_str.split(':')\n",
    "                agent_list[i] = 'static' + str(action)\n",
    "            elif agent_str == 'train' and i == agent_ind:\n",
    "                agent_list[i] = 'train' + policy1\n",
    "            elif agent_str == 'train' and i == agent_ind + 2:\n",
    "                agent_list[i] = 'train' + policy2\n",
    "            elif agent_str == 'smart_random':\n",
    "                agent_list[i] = SmartRandomAgent()\n",
    "            elif agent_str == 'simple':\n",
    "                agent_list[i] = SimpleAgent()\n",
    "            else:\n",
    "                print('unsupported opponent type!')\n",
    "                sys.exit(1)\n",
    "        if 4 == 2:\n",
    "            agent_inds = [0 + agent_ind]\n",
    "            agent_ids = [10 + agent_ind]\n",
    "        else:\n",
    "            agent_inds = [0 + agent_ind, 2 + agent_ind]\n",
    "            agent_ids = [10 + agent_ind, 12 + agent_ind]\n",
    "        return agent_inds, agent_ids, agent_list\n"
   ]
  },
  {
   "cell_type": "code",
   "execution_count": 107,
   "metadata": {},
   "outputs": [
    {
     "data": {
      "text/plain": [
       "1"
      ]
     },
     "execution_count": 107,
     "metadata": {},
     "output_type": "execute_result"
    }
   ],
   "source": [
    "np.random.randint(2)"
   ]
  },
  {
   "cell_type": "code",
   "execution_count": 80,
   "metadata": {},
   "outputs": [
    {
     "data": {
      "text/plain": [
       "([0, 2], [10, 12], ['train1', 'static2', 'train2', 'static2'])"
      ]
     },
     "execution_count": 80,
     "metadata": {},
     "output_type": "execute_result"
    }
   ],
   "source": [
    "init_agent_list('train', 'train', '1', '2', 'static:2')"
   ]
  },
  {
   "cell_type": "code",
   "execution_count": 1,
   "metadata": {},
   "outputs": [
    {
     "ename": "NameError",
     "evalue": "name 'policy' is not defined",
     "output_type": "error",
     "traceback": [
      "\u001b[1;31m---------------------------------------------------------------------------\u001b[0m",
      "\u001b[1;31mNameError\u001b[0m                                 Traceback (most recent call last)",
      "\u001b[1;32m<ipython-input-1-32d4142c4d59>\u001b[0m in \u001b[0;36m<module>\u001b[1;34m\u001b[0m\n\u001b[0;32m     10\u001b[0m \u001b[1;33m\u001b[0m\u001b[0m\n\u001b[0;32m     11\u001b[0m agent_list = [\n\u001b[1;32m---> 12\u001b[1;33m     \u001b[0mTrainAgent\u001b[0m\u001b[1;33m(\u001b[0m\u001b[0mpolicy\u001b[0m\u001b[1;33m)\u001b[0m\u001b[1;33m,\u001b[0m\u001b[1;33m\u001b[0m\u001b[1;33m\u001b[0m\u001b[0m\n\u001b[0m\u001b[0;32m     13\u001b[0m     \u001b[1;31m# StaticAgent(0),\u001b[0m\u001b[1;33m\u001b[0m\u001b[1;33m\u001b[0m\u001b[1;33m\u001b[0m\u001b[0m\n\u001b[0;32m     14\u001b[0m     \u001b[0magents\u001b[0m\u001b[1;33m.\u001b[0m\u001b[0mSimpleAgent\u001b[0m\u001b[1;33m(\u001b[0m\u001b[1;33m)\u001b[0m\u001b[1;33m\u001b[0m\u001b[1;33m\u001b[0m\u001b[0m\n",
      "\u001b[1;31mNameError\u001b[0m: name 'policy' is not defined"
     ]
    }
   ],
   "source": [
    "# solve error #15\n",
    "import os    \n",
    "os.environ['KMP_DUPLICATE_LIB_OK']='True'"
   ]
  },
  {
   "cell_type": "code",
   "execution_count": 20,
   "metadata": {},
   "outputs": [],
   "source": [
    "import os\n",
    "import sys\n",
    "import numpy as np\n",
    "import random\n",
    "\n",
    "import pommerman\n",
    "from pommerman.agents import SimpleAgent, RandomAgent, PlayerAgent, BaseAgent\n",
    "from pommerman.configs import ffa_v0_fast_env,  one_vs_one_env, team_competition_env\n",
    "from pommerman.envs.v0 import Pomme\n",
    "from pommerman.characters import Bomber\n",
    "from pommerman import utility\n",
    "\n",
    "from agents.static_agent import StaticAgent\n",
    "from agents.train_agent import TrainAgent\n",
    "\n",
    "from datetime import datetime\n",
    "import os\n",
    "import sys\n",
    "import gym\n",
    "import torch\n",
    "from torch.utils.tensorboard import SummaryWriter\n",
    "import numpy as np\n",
    "import params as p\n",
    "\n",
    "from models import Pommer_Q\n",
    "from data_generator import DataGeneratorPommerman\n",
    "from dqn import DQN\n",
    "from util.data import transform_observation, transform_observation_centralized\n",
    "import params as p\n",
    "from util.rewards import woods_close_to_bomb_reward"
   ]
  },
  {
   "cell_type": "code",
   "execution_count": 23,
   "metadata": {},
   "outputs": [],
   "source": [
    "# model_dir1 = \"../../data/tensorboard/20220120T172103/4491\"\n",
    "# model_dir2 = \"../../data/tensorboard/20220120T172103/4492\"\n",
    "\n",
    "q = Pommer_Q(p.p_observable, transform_observation_centralized)\n",
    "q_target = Pommer_Q(p.p_observable, transform_observation_centralized)\n",
    "\n",
    "# q.load_state_dict(torch.load(model_dir1))\n",
    "# q_target.load_state_dict(torch.load(model_dir1))\n",
    "algo1 = DQN(q, q_target)\n",
    "policy1 = algo1.get_policy()\n",
    "\n",
    "\n",
    "# q.load_state_dict(torch.load(model_dir1))\n",
    "# q_target.load_state_dict(torch.load(model_dir1))\n",
    "algo2 = DQN(q, q_target)\n",
    "policy2 = algo1.get_policy()\n",
    "\n",
    "\n",
    "\n",
    "agent_list = [\n",
    "    TrainAgent(policy1),\n",
    "    StaticAgent(0),\n",
    "    TrainAgent(policy2),\n",
    "    StaticAgent(0),\n",
    "]\n",
    "\n",
    "env = pommerman.make('PommeTeamCompetition-v0', agent_list)\n",
    "\n",
    "# # Seed and reset the environment\n",
    "# env.seed(0)\n",
    "# obs = env.reset()\n",
    "\n",
    "# # Run the random agents until we're done\n",
    "# done = False\n",
    "# while not done:\n",
    "#     env.render()\n",
    "#     actions = env.act(obs)\n",
    "#     obs, reward, done, info = env.step(actions)\n",
    "#     print()\n",
    "# env.render(close=True)\n",
    "# env.close()\n",
    "\n",
    "# print(info)"
   ]
  },
  {
   "cell_type": "code",
   "execution_count": 27,
   "metadata": {},
   "outputs": [
    {
     "data": {
      "text/plain": [
       "<function models.Pommer_Q.get_transformer.<locals>.transformer(obs:dict) -> list>"
      ]
     },
     "execution_count": 27,
     "metadata": {},
     "output_type": "execute_result"
    }
   ],
   "source": [
    "algo1.q_network.get_transformer()"
   ]
  },
  {
   "cell_type": "markdown",
   "metadata": {},
   "source": [
    "## Test random agent with filter"
   ]
  },
  {
   "cell_type": "code",
   "execution_count": 40,
   "metadata": {},
   "outputs": [
    {
     "ename": "NameError",
     "evalue": "name 'BaseAgent' is not defined",
     "output_type": "error",
     "traceback": [
      "\u001b[1;31m---------------------------------------------------------------------------\u001b[0m",
      "\u001b[1;31mNameError\u001b[0m                                 Traceback (most recent call last)",
      "\u001b[1;32m<ipython-input-40-900e36a0d73c>\u001b[0m in \u001b[0;36m<module>\u001b[1;34m\u001b[0m\n\u001b[0;32m      1\u001b[0m \u001b[1;32mimport\u001b[0m \u001b[0maction_prune\u001b[0m\u001b[1;33m\u001b[0m\u001b[1;33m\u001b[0m\u001b[0m\n\u001b[0;32m      2\u001b[0m \u001b[1;33m\u001b[0m\u001b[0m\n\u001b[1;32m----> 3\u001b[1;33m \u001b[1;32mclass\u001b[0m \u001b[0mSmartRandomAgent\u001b[0m\u001b[1;33m(\u001b[0m\u001b[0mBaseAgent\u001b[0m\u001b[1;33m)\u001b[0m\u001b[1;33m:\u001b[0m\u001b[1;33m\u001b[0m\u001b[1;33m\u001b[0m\u001b[0m\n\u001b[0m\u001b[0;32m      4\u001b[0m     \u001b[1;34m\"\"\" random with filtered actions\"\"\"\u001b[0m\u001b[1;33m\u001b[0m\u001b[1;33m\u001b[0m\u001b[0m\n\u001b[0;32m      5\u001b[0m     \u001b[1;32mdef\u001b[0m \u001b[0mact\u001b[0m\u001b[1;33m(\u001b[0m\u001b[0mself\u001b[0m\u001b[1;33m,\u001b[0m \u001b[0mobs\u001b[0m\u001b[1;33m,\u001b[0m \u001b[0maction_space\u001b[0m\u001b[1;33m)\u001b[0m\u001b[1;33m:\u001b[0m\u001b[1;33m\u001b[0m\u001b[1;33m\u001b[0m\u001b[0m\n",
      "\u001b[1;31mNameError\u001b[0m: name 'BaseAgent' is not defined"
     ]
    }
   ],
   "source": [
    "import action_prune\n",
    "\n",
    "class SmartRandomAgent(BaseAgent):\n",
    "    \"\"\" random with filtered actions\"\"\"\n",
    "    def act(self, obs, action_space):\n",
    "        valid_actions=action_prune.get_filtered_actions(obs)\n",
    "        if len(valid_actions) ==0:\n",
    "            valid_actions.append(Action.Stop.value)\n",
    "        return random.choice(valid_actions)\n",
    "\n",
    "    def episode_end(self,reward):\n",
    "        pass"
   ]
  },
  {
   "cell_type": "code",
   "execution_count": 47,
   "metadata": {},
   "outputs": [],
   "source": [
    "env.close()"
   ]
  }
 ],
 "metadata": {
  "interpreter": {
   "hash": "43714aa13a1826bbf48609774dc72008d4afdb24f2488865b89cf3ad9b7af9e6"
  },
  "kernelspec": {
   "display_name": "Python 3.6.15 64-bit ('pommerman': conda)",
   "language": "python",
   "name": "python3"
  },
  "language_info": {
   "codemirror_mode": {
    "name": "ipython",
    "version": 3
   },
   "file_extension": ".py",
   "mimetype": "text/x-python",
   "name": "python",
   "nbconvert_exporter": "python",
   "pygments_lexer": "ipython3",
   "version": "3.6.15"
  },
  "orig_nbformat": 4
 },
 "nbformat": 4,
 "nbformat_minor": 2
}
